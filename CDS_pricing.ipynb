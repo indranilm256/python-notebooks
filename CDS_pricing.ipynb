{
 "cells": [
  {
   "cell_type": "code",
   "execution_count": 1,
   "id": "8b42b59e",
   "metadata": {},
   "outputs": [],
   "source": [
    "import numpy as np"
   ]
  },
  {
   "cell_type": "code",
   "execution_count": null,
   "id": "8713a6ed",
   "metadata": {},
   "outputs": [],
   "source": []
  },
  {
   "cell_type": "code",
   "execution_count": 3,
   "id": "cad5dff6",
   "metadata": {},
   "outputs": [
    {
     "name": "stdout",
     "output_type": "stream",
     "text": [
      "Price of the defaultable zero-coupon bond: 56.5282\n"
     ]
    }
   ],
   "source": [
    "\n",
    "# Step 1: Construct short-rate lattice (r[i][j])\n",
    "r = np.zeros((n + 1, n + 1))\n",
    "r[0, 0] = r0\n",
    "for i in range(1, n + 1):\n",
    "    for j in range(i + 1):\n",
    "        r[i, j] = r0 * (u ** j) * (d ** (i - j))\n",
    "\n",
    "# Step 2: Construct hazard rate lattice h[i][j] = a * b ** (j - i/2)\n",
    "h = np.zeros((n, n))\n",
    "for i in range(n):\n",
    "    for j in range(i + 1):\n",
    "        exponent = j - i / 2\n",
    "        h[i, j] = a * (b ** exponent)\n",
    "\n",
    "# Step 3: Terminal payoffs of defaultable ZCB (at maturity, bond pays F)\n",
    "bond = np.full(n + 1, F)\n",
    "\n",
    "# Step 4: Backward induction to price defaultable bond\n",
    "for i in range(n - 1, -1, -1):\n",
    "    next_values = np.zeros(i + 1)\n",
    "    for j in range(i + 1):\n",
    "        # hazard rate\n",
    "        hij = h[i, j]\n",
    "        survival_prob = 1 - hij  # prob of no default in this period\n",
    "        default_prob = hij\n",
    "\n",
    "        # expected value (note: q = 0.5)\n",
    "        expected_value = q * bond[j + 1] + (1 - q) * bond[j]\n",
    "        discounted = np.exp(-r[i, j]) * (survival_prob * expected_value + default_prob * R)\n",
    "        next_values[j] = discounted\n",
    "    bond = next_values  # update for next iteration\n",
    "\n",
    "# Final bond price\n",
    "print(f\"Price of the defaultable zero-coupon bond: {bond[0]:.4f}\")"
   ]
  }
 ],
 "metadata": {
  "kernelspec": {
   "display_name": ".venv",
   "language": "python",
   "name": "python3"
  },
  "language_info": {
   "codemirror_mode": {
    "name": "ipython",
    "version": 3
   },
   "file_extension": ".py",
   "mimetype": "text/x-python",
   "name": "python",
   "nbconvert_exporter": "python",
   "pygments_lexer": "ipython3",
   "version": "3.9.6"
  }
 },
 "nbformat": 4,
 "nbformat_minor": 5
}
