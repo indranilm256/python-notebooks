{
 "cells": [
  {
   "cell_type": "code",
   "execution_count": null,
   "id": "df42fd82",
   "metadata": {},
   "outputs": [
    {
     "ename": "",
     "evalue": "",
     "output_type": "error",
     "traceback": [
      "\u001b[1;31mThe kernel failed to start as the Python Environment '.venv (Python -1.-1.-1)' is no longer available. Consider selecting another kernel or refreshing the list of Python Environments."
     ]
    }
   ],
   "source": [
    "import numpy as np\n",
    "import pandas as pd\n",
    "\n",
    "# Parameters\n",
    "S0 = 100          # Initial stock price\n",
    "K = 110           # Strike price\n",
    "T = 0.25          # Time to maturity in years\n",
    "r = 0.02          # Risk-free rate\n",
    "sigma = 0.30      # Volatility\n",
    "c = 0.01          # Dividend yield\n",
    "n = 15            # Number of binomial periods\n",
    "u = 1.0395        # Up factor (given, unrounded in calculation)\n",
    "d = 1 / u         # Down factor\n",
    "dt = T / n        # Time step\n",
    "R = np.exp(r * dt)  # Risk-free rate per step\n",
    "disc = np.exp(-r * dt)  # Discount factor per step\n",
    "\n",
    "# Risk-neutral probability\n",
    "q = (np.exp((r - c) * dt) - d) / (u - d)\n",
    "\n",
    "# Step 1: Build stock price tree\n",
    "stock_tree = np.zeros((n+1, n+1))\n",
    "for i in range(n+1):\n",
    "    for j in range(i+1):\n",
    "        stock_tree[j, i] = S0 * (u ** (i - j)) * (d ** j)\n",
    "\n",
    "# Step 2: Build option price tree for American Call\n",
    "option_tree = np.zeros_like(stock_tree)\n",
    "exercise_tree = np.full_like(stock_tree, False, dtype=bool)\n",
    "\n",
    "# Terminal payoff\n",
    "for j in range(n+1):\n",
    "    option_tree[j, n] = max(stock_tree[j, n] - K, 0)\n",
    "\n",
    "# Backward induction\n",
    "early_exercise_period = None\n",
    "for i in range(n-1, -1, -1):\n",
    "    for j in range(i+1):\n",
    "        hold = disc * (q * option_tree[j, i+1] + (1 - q) * option_tree[j+1, i+1])\n",
    "        exercise = stock_tree[j, i] - K\n",
    "        option_tree[j, i] = max(hold, exercise)\n",
    "        if exercise > hold:\n",
    "            exercise_tree[j, i] = True\n",
    "            early_exercise_period = i  # last update will be the earliest optimal period\n",
    "\n",
    "# Collect final result\n",
    "american_call_price = option_tree[0, 0]\n",
    "\n",
    "# Prepare output\n",
    "stock_df = pd.DataFrame(stock_tree)\n",
    "option_df = pd.DataFrame(option_tree)\n",
    "exercise_df = pd.DataFrame(exercise_tree)\n",
    "\n",
    "american_call_price, early_exercise_period, stock_df.round(2), option_df.round(4), exercise_df"
   ]
  }
 ],
 "metadata": {
  "kernelspec": {
   "display_name": ".venv",
   "language": "python",
   "name": "python3"
  },
  "language_info": {
   "name": "python",
   "version": "3.9.6"
  }
 },
 "nbformat": 4,
 "nbformat_minor": 5
}
