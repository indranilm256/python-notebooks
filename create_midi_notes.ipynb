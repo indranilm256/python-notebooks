{
 "cells": [
  {
   "cell_type": "code",
   "execution_count": 4,
   "id": "ee480e98",
   "metadata": {},
   "outputs": [
    {
     "ename": "ModuleNotFoundError",
     "evalue": "No module named 'mido'",
     "output_type": "error",
     "traceback": [
      "\u001b[0;31m---------------------------------------------------------------------------\u001b[0m",
      "\u001b[0;31mModuleNotFoundError\u001b[0m                       Traceback (most recent call last)",
      "Cell \u001b[0;32mIn[4], line 1\u001b[0m\n\u001b[0;32m----> 1\u001b[0m \u001b[38;5;28;01mfrom\u001b[39;00m\u001b[38;5;250m \u001b[39m\u001b[38;5;21;01mmido\u001b[39;00m\u001b[38;5;250m \u001b[39m\u001b[38;5;28;01mimport\u001b[39;00m Message, MidiFile, MidiTrack, bpm2tempo\n\u001b[1;32m      3\u001b[0m \u001b[38;5;66;03m# Set tempo and time signature\u001b[39;00m\n\u001b[1;32m      4\u001b[0m bpm \u001b[38;5;241m=\u001b[39m \u001b[38;5;241m68\u001b[39m\n",
      "\u001b[0;31mModuleNotFoundError\u001b[0m: No module named 'mido'"
     ]
    }
   ],
   "source": [
    "from mido import Message, MidiFile, MidiTrack, bpm2tempo\n",
    "\n",
    "# Set tempo and time signature\n",
    "bpm = 68\n",
    "tempo = bpm2tempo(bpm)\n",
    "ticks_per_beat = 480  # Standard MIDI resolution\n",
    "\n",
    "# Define chord voicings (right hand) and bass notes (left hand) in MIDI note numbers\n",
    "# Chords in Db major key: Db, Ab, Bbm, Gb\n",
    "chords = [\n",
    "    {\"name\": \"Db\",  \"right\": [65, 68, 73], \"left\": [49]},  # F Ab Db | Db bass\n",
    "    {\"name\": \"Ab\",  \"right\": [60, 63, 68], \"left\": [44]},  # C Eb Ab | Ab bass\n",
    "    {\"name\": \"Bbm\", \"right\": [61, 65, 70], \"left\": [46]},  # Db F Bb | Bb bass\n",
    "    {\"name\": \"Gb\",  \"right\": [58, 61, 66], \"left\": [42]},  # Bb Db Gb | Gb bass\n",
    "]\n",
    "\n",
    "# Duration: each chord holds for 1 bar = 3 quarter notes in 6/8\n",
    "duration = ticks_per_beat * 3\n",
    "\n",
    "# Create MIDI file and track\n",
    "mid = MidiFile(ticks_per_beat=ticks_per_beat)\n",
    "track = MidiTrack()\n",
    "mid.tracks.append(track)\n",
    "\n",
    "# Set tempo\n",
    "track.append(Message('program_change', program=0, time=0))\n",
    "track.append(mido.MetaMessage('set_tempo', tempo=tempo))\n",
    "\n",
    "# Add chords and bass notes\n",
    "for chord in chords:\n",
    "    # Note on (right hand)\n",
    "    for note in chord[\"right\"]:\n",
    "        track.append(Message('note_on', note=note, velocity=80, time=0))\n",
    "    # Note on (left hand)\n",
    "    for note in chord[\"left\"]:\n",
    "        track.append(Message('note_on', note=note, velocity=90, time=0))\n",
    "    # Note off (after duration)\n",
    "    for note in chord[\"right\"] + chord[\"left\"]:\n",
    "        track.append(Message('note_off', note=note, velocity=64, time=duration))\n",
    "\n",
    "# Save the MIDI file\n",
    "output_path = \"/mnt/data/sun_is_shining_down_intro_chords.mid\"\n",
    "mid.save(output_path)\n",
    "\n",
    "output_path"
   ]
  }
 ],
 "metadata": {
  "kernelspec": {
   "display_name": ".venv",
   "language": "python",
   "name": "python3"
  },
  "language_info": {
   "codemirror_mode": {
    "name": "ipython",
    "version": 3
   },
   "file_extension": ".py",
   "mimetype": "text/x-python",
   "name": "python",
   "nbconvert_exporter": "python",
   "pygments_lexer": "ipython3",
   "version": "3.9.6"
  }
 },
 "nbformat": 4,
 "nbformat_minor": 5
}
